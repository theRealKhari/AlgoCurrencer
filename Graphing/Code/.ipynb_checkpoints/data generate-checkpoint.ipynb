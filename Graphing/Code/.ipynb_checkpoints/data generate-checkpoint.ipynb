{
 "cells": [
  {
   "cell_type": "code",
   "execution_count": 2,
   "metadata": {},
   "outputs": [],
   "source": [
    "import os\n",
    "import sys\n",
    "sys.path.append('C:\\\\Users\\\\Khari\\\\Documents\\\\Algo\\\\Resources')\n",
    "import khariTrader\n",
    "import time"
   ]
  },
  {
   "cell_type": "code",
   "execution_count": 26,
   "metadata": {},
   "outputs": [],
   "source": [
    "df = khariTrader.get_currency_bars(\"EUR_USD\",\"H1\",40)"
   ]
  },
  {
   "cell_type": "code",
   "execution_count": 27,
   "metadata": {},
   "outputs": [],
   "source": [
    "df['Trade'] = 0"
   ]
  },
  {
   "cell_type": "code",
   "execution_count": 24,
   "metadata": {},
   "outputs": [
    {
     "name": "stderr",
     "output_type": "stream",
     "text": [
      "C:\\Users\\Khari\\Anaconda3\\envs\\oandaEnv\\lib\\site-packages\\pandas\\core\\indexing.py:189: SettingWithCopyWarning: \n",
      "A value is trying to be set on a copy of a slice from a DataFrame\n",
      "\n",
      "See the caveats in the documentation: http://pandas.pydata.org/pandas-docs/stable/indexing.html#indexing-view-versus-copy\n",
      "  self._setitem_with_indexer(indexer, value)\n"
     ]
    }
   ],
   "source": [
    "df.Trade.iloc[[14]] = 1\n",
    "df.Trade.iloc[[4]] = -1\n",
    "df.Trade.iloc[[35]] = 1"
   ]
  },
  {
   "cell_type": "code",
   "execution_count": 25,
   "metadata": {},
   "outputs": [
    {
     "data": {
      "text/html": [
       "<div>\n",
       "<style scoped>\n",
       "    .dataframe tbody tr th:only-of-type {\n",
       "        vertical-align: middle;\n",
       "    }\n",
       "\n",
       "    .dataframe tbody tr th {\n",
       "        vertical-align: top;\n",
       "    }\n",
       "\n",
       "    .dataframe thead th {\n",
       "        text-align: right;\n",
       "    }\n",
       "</style>\n",
       "<table border=\"1\" class=\"dataframe\">\n",
       "  <thead>\n",
       "    <tr style=\"text-align: right;\">\n",
       "      <th></th>\n",
       "      <th>Open</th>\n",
       "      <th>High</th>\n",
       "      <th>Low</th>\n",
       "      <th>Close</th>\n",
       "      <th>Volume</th>\n",
       "      <th>Complete</th>\n",
       "      <th>Trade</th>\n",
       "    </tr>\n",
       "    <tr>\n",
       "      <th>time</th>\n",
       "      <th></th>\n",
       "      <th></th>\n",
       "      <th></th>\n",
       "      <th></th>\n",
       "      <th></th>\n",
       "      <th></th>\n",
       "      <th></th>\n",
       "    </tr>\n",
       "  </thead>\n",
       "  <tbody>\n",
       "    <tr>\n",
       "      <th>2018-07-30 23:00:00</th>\n",
       "      <td>1.17084</td>\n",
       "      <td>1.17097</td>\n",
       "      <td>1.17071</td>\n",
       "      <td>1.17076</td>\n",
       "      <td>331</td>\n",
       "      <td>True</td>\n",
       "      <td>0</td>\n",
       "    </tr>\n",
       "    <tr>\n",
       "      <th>2018-07-31 00:00:00</th>\n",
       "      <td>1.17082</td>\n",
       "      <td>1.17112</td>\n",
       "      <td>1.17047</td>\n",
       "      <td>1.17094</td>\n",
       "      <td>1010</td>\n",
       "      <td>True</td>\n",
       "      <td>0</td>\n",
       "    </tr>\n",
       "    <tr>\n",
       "      <th>2018-07-31 01:00:00</th>\n",
       "      <td>1.17088</td>\n",
       "      <td>1.17109</td>\n",
       "      <td>1.17019</td>\n",
       "      <td>1.17102</td>\n",
       "      <td>1041</td>\n",
       "      <td>True</td>\n",
       "      <td>0</td>\n",
       "    </tr>\n",
       "    <tr>\n",
       "      <th>2018-07-31 02:00:00</th>\n",
       "      <td>1.17100</td>\n",
       "      <td>1.17103</td>\n",
       "      <td>1.17027</td>\n",
       "      <td>1.17089</td>\n",
       "      <td>922</td>\n",
       "      <td>True</td>\n",
       "      <td>True</td>\n",
       "    </tr>\n",
       "    <tr>\n",
       "      <th>2018-07-31 03:00:00</th>\n",
       "      <td>1.17084</td>\n",
       "      <td>1.17102</td>\n",
       "      <td>1.17034</td>\n",
       "      <td>1.17088</td>\n",
       "      <td>517</td>\n",
       "      <td>True</td>\n",
       "      <td>0</td>\n",
       "    </tr>\n",
       "  </tbody>\n",
       "</table>\n",
       "</div>"
      ],
      "text/plain": [
       "                        Open     High      Low    Close  Volume  Complete  \\\n",
       "time                                                                        \n",
       "2018-07-30 23:00:00  1.17084  1.17097  1.17071  1.17076     331      True   \n",
       "2018-07-31 00:00:00  1.17082  1.17112  1.17047  1.17094    1010      True   \n",
       "2018-07-31 01:00:00  1.17088  1.17109  1.17019  1.17102    1041      True   \n",
       "2018-07-31 02:00:00  1.17100  1.17103  1.17027  1.17089     922      True   \n",
       "2018-07-31 03:00:00  1.17084  1.17102  1.17034  1.17088     517      True   \n",
       "\n",
       "                    Trade  \n",
       "time                       \n",
       "2018-07-30 23:00:00     0  \n",
       "2018-07-31 00:00:00     0  \n",
       "2018-07-31 01:00:00     0  \n",
       "2018-07-31 02:00:00  True  \n",
       "2018-07-31 03:00:00     0  "
      ]
     },
     "execution_count": 25,
     "metadata": {},
     "output_type": "execute_result"
    }
   ],
   "source": [
    "df.head()"
   ]
  },
  {
   "cell_type": "code",
   "execution_count": null,
   "metadata": {},
   "outputs": [],
   "source": [
    "def gener():\n",
    "    for i in range(10)\n",
    "    \n",
    "    "
   ]
  },
  {
   "cell_type": "code",
   "execution_count": null,
   "metadata": {},
   "outputs": [],
   "source": [
    "pandas"
   ]
  },
  {
   "cell_type": "code",
   "execution_count": null,
   "metadata": {},
   "outputs": [],
   "source": []
  },
  {
   "cell_type": "code",
   "execution_count": null,
   "metadata": {},
   "outputs": [],
   "source": []
  },
  {
   "cell_type": "code",
   "execution_count": null,
   "metadata": {},
   "outputs": [],
   "source": []
  }
 ],
 "metadata": {
  "kernelspec": {
   "display_name": "Python [conda env:oandaEnv]",
   "language": "python",
   "name": "conda-env-oandaEnv-py"
  },
  "language_info": {
   "codemirror_mode": {
    "name": "ipython",
    "version": 3
   },
   "file_extension": ".py",
   "mimetype": "text/x-python",
   "name": "python",
   "nbconvert_exporter": "python",
   "pygments_lexer": "ipython3",
   "version": "3.6.5"
  }
 },
 "nbformat": 4,
 "nbformat_minor": 2
}
