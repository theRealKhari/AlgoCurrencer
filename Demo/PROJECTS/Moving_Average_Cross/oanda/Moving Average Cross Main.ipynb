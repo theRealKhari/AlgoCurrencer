{
 "cells": [
  {
   "cell_type": "markdown",
   "metadata": {},
   "source": [
    "Imports galore"
   ]
  },
  {
   "cell_type": "code",
   "execution_count": 1,
   "metadata": {},
   "outputs": [],
   "source": [
    "import pandas as pd\n",
    "import oandapyV20\n",
    "from oandapyV20 import API\n",
    "import sys\n",
    "sys.path.append('C:\\\\Users\\\\Khari\\\\Documents\\\\Algo\\\\Resources')\n",
    "import khariTrader as ktrade\n",
    "import importlib as imp\n",
    "import numpy as np\n",
    "import datetime\n",
    "import matplotlib.pyplot as plt\n",
    "import time"
   ]
  },
  {
   "cell_type": "code",
   "execution_count": 2,
   "metadata": {},
   "outputs": [],
   "source": [
    "import talib"
   ]
  },
  {
   "cell_type": "code",
   "execution_count": 3,
   "metadata": {},
   "outputs": [
    {
     "data": {
      "text/plain": [
       "<module 'khariTrader' from 'C:\\\\Users\\\\Khari\\\\Documents\\\\Algo\\\\Resources\\\\khariTrader.py'>"
      ]
     },
     "execution_count": 3,
     "metadata": {},
     "output_type": "execute_result"
    }
   ],
   "source": [
    "imp.reload(ktrade)"
   ]
  },
  {
   "cell_type": "markdown",
   "metadata": {},
   "source": [
    "Setup Overall Algo Variables. "
   ]
  },
  {
   "cell_type": "code",
   "execution_count": 5,
   "metadata": {},
   "outputs": [],
   "source": [
    "PAIR = 'EUR_USD' #Pair that this algorithm will trade on. \n",
    "TSIZE = 1000 #Number of units bought/sold per trade\n",
    "GRAN = \"M5\" #Granularity of bars being checked. \n",
    "SL = ktrade.pips(4)\n",
    "TP = ktrade.pips(7)"
   ]
  },
  {
   "cell_type": "code",
   "execution_count": 6,
   "metadata": {},
   "outputs": [
    {
     "name": "stdout",
     "output_type": "stream",
     "text": [
      "hi\n"
     ]
    }
   ],
   "source": [
    "print('hi')"
   ]
  },
  {
   "cell_type": "code",
   "execution_count": 7,
   "metadata": {},
   "outputs": [
    {
     "data": {
      "text/plain": [
       "1.1635"
      ]
     },
     "execution_count": 7,
     "metadata": {},
     "output_type": "execute_result"
    }
   ],
   "source": [
    "round(1.16278 + TP,4)"
   ]
  },
  {
   "cell_type": "markdown",
   "metadata": {},
   "source": [
    "Create tick feed"
   ]
  },
  {
   "cell_type": "code",
   "execution_count": 6,
   "metadata": {},
   "outputs": [],
   "source": [
    "TICK_FEED = ktrade.event_new_tick(PAIR)"
   ]
  },
  {
   "cell_type": "code",
   "execution_count": 7,
   "metadata": {},
   "outputs": [
    {
     "name": "stdout",
     "output_type": "stream",
     "text": [
      "is this feed correct?\n"
     ]
    }
   ],
   "source": [
    "\n",
    "\n",
    "print(\"is this feed correct?\")\n"
   ]
  },
  {
   "cell_type": "code",
   "execution_count": null,
   "metadata": {},
   "outputs": [],
   "source": []
  },
  {
   "cell_type": "code",
   "execution_count": 18,
   "metadata": {},
   "outputs": [],
   "source": [
    "data = ktrade.get_currency_bars(PAIR,GRAN,5)\n",
    "\n",
    "close = data['Close']"
   ]
  },
  {
   "cell_type": "code",
   "execution_count": 15,
   "metadata": {},
   "outputs": [
    {
     "data": {
      "text/plain": [
       "{'Open': {Timestamp('2018-07-27 20:55:00'): '1.16571'},\n",
       " 'High': {Timestamp('2018-07-27 20:55:00'): '1.16592'},\n",
       " 'Low': {Timestamp('2018-07-27 20:55:00'): '1.16553'},\n",
       " 'Close': {Timestamp('2018-07-27 20:55:00'): '1.16568'},\n",
       " 'Volume': {Timestamp('2018-07-27 20:55:00'): 163},\n",
       " 'Complete': {Timestamp('2018-07-27 20:55:00'): True}}"
      ]
     },
     "execution_count": 15,
     "metadata": {},
     "output_type": "execute_result"
    }
   ],
   "source": [
    "data.to_dict()"
   ]
  },
  {
   "cell_type": "code",
   "execution_count": 19,
   "metadata": {},
   "outputs": [
    {
     "data": {
      "text/plain": [
       "{Timestamp('2018-07-27 20:35:00'): '1.16610',\n",
       " Timestamp('2018-07-27 20:40:00'): '1.16582',\n",
       " Timestamp('2018-07-27 20:45:00'): '1.16581',\n",
       " Timestamp('2018-07-27 20:50:00'): '1.16571',\n",
       " Timestamp('2018-07-27 20:55:00'): '1.16568'}"
      ]
     },
     "execution_count": 19,
     "metadata": {},
     "output_type": "execute_result"
    }
   ],
   "source": [
    "close.to_dict()"
   ]
  },
  {
   "cell_type": "code",
   "execution_count": 20,
   "metadata": {},
   "outputs": [
    {
     "data": {
      "text/plain": [
       "time\n",
       "2018-07-27 20:35:00    1.16610\n",
       "2018-07-27 20:40:00    1.16582\n",
       "2018-07-27 20:45:00    1.16581\n",
       "2018-07-27 20:50:00    1.16571\n",
       "2018-07-27 20:55:00    1.16568\n",
       "Name: Close, dtype: object"
      ]
     },
     "execution_count": 20,
     "metadata": {},
     "output_type": "execute_result"
    }
   ],
   "source": [
    "close"
   ]
  },
  {
   "cell_type": "code",
   "execution_count": null,
   "metadata": {},
   "outputs": [],
   "source": []
  },
  {
   "cell_type": "code",
   "execution_count": null,
   "metadata": {},
   "outputs": [],
   "source": []
  },
  {
   "cell_type": "code",
   "execution_count": null,
   "metadata": {},
   "outputs": [],
   "source": []
  },
  {
   "cell_type": "markdown",
   "metadata": {},
   "source": [
    "MAIN ALGORITHM CODE"
   ]
  },
  {
   "cell_type": "code",
   "execution_count": 10,
   "metadata": {},
   "outputs": [],
   "source": [
    "\n",
    "def Moving_Average_Cross_Algo():\n",
    "    #A few initializations. \n",
    "    print('Code starting!')\n",
    "    trades_placed = 0\n",
    "    oldBar = None\n",
    "    open_trade = None\n",
    "    Checks = 0\n",
    "    #Start feeding in ticks\n",
    "    while True:\n",
    "        print('Waiting 15 secs before checking bar')\n",
    "        time.sleep(15)\n",
    "        print('15 secs are up!')\n",
    "        Checks += 1\n",
    "        print ('check #{}'.format(Checks))\n",
    "\n",
    "        #Some ticks are 'heartbeats' those are useless. \n",
    "        #if tick['type'] == 'PRICE':\n",
    "        if True:\n",
    "\n",
    "            #This bar is only used to check the timestamp to see if there is a new bar on this tick. \n",
    "            currBar = ktrade.get_currency_bars(PAIR,GRAN,1).iloc[-1].name\n",
    "\n",
    "            #Checking to see if this bar has the same timestamp as the last bar\n",
    "            if currBar == oldBar:\n",
    "                print('tick', end=' ')\n",
    "            else:\n",
    "                print(\"\\n NEW BAR DETECTED...\")\n",
    "\n",
    "                #Setting old bar as current bar for future checks\n",
    "                oldBar = currBar\n",
    "\n",
    "                #Get important data\n",
    "                accData = ktrade.get_account_data()\n",
    "                instrumentData = ktrade.get_currency_info(PAIR)\n",
    "\n",
    "\n",
    "                print(\"is there an open trade? i found: {}\".format(open_trade))\n",
    "\n",
    "                #Check to see if theres a trade on the currency\n",
    "                if ktrade.parse_account_data('trades',accData) != []:\n",
    "                    print(\"Trade already opened on currency, doing nothing\")\n",
    "                    continue\n",
    "\n",
    "\n",
    "\n",
    "                #Get dataframe of currency bars\n",
    "                bData = ktrade.get_currency_bars(PAIR,GRAN,30)\n",
    "\n",
    "                #Get current prices:\n",
    "                askPrice = ktrade.parse_currency_info('ask',instrumentData)\n",
    "                bidPrice = ktrade.parse_currency_info('bid',instrumentData)\n",
    "\n",
    "                print('Ask price is: {}'.format(askPrice))\n",
    "\n",
    "                #Create Indicators\n",
    "                slow_ma = talib.MA(bData['Close'],1)\n",
    "                fast_ma = talib.MA(bData['Close'],3)\n",
    "                signal_ma = talib.MA(bData['Close'],5)\n",
    "\n",
    "\n",
    "\n",
    "                #----TRADE LOGIC-----\n",
    "\n",
    "                #check for moving average crossover.\n",
    "                print(ktrade.cross_over(slow_ma,fast_ma))\n",
    "                if ktrade.cross_over(slow_ma,fast_ma) == 1 and askPrice > signal_ma.iloc[-1]:\n",
    "                    print('BUY SIGNAL OH YEAH')\n",
    "                    \n",
    "                    takeProf = round(askPrice + TP,4)\n",
    "                    stopLoss = round(askPrice - SL,4)\n",
    "                    \n",
    "                    open_trade = ktrade.market_order(PAIR,'buy',TSIZE,stopLoss,takeProf)\n",
    "\n",
    "                elif ktrade.cross_over(slow_ma,fast_ma) == -1 and bidPrice < signal_ma.iloc[-1]:\n",
    "                    print('DETECTED A SELL SIGNAL')\n",
    "                    \n",
    "                    takeProf = round(bidPrice - TP,4)\n",
    "                    stopLoss = round(bidPrice + SL,4)\n",
    "                    \n",
    "                    open_trade = ktrade.market_order(PAIR,'sell',TSIZE,stopLoss,takeProf)\n",
    "                else:\n",
    "                    print('No trade signal detected yet')\n",
    "                    continue\n",
    "\n",
    "\n",
    "\n",
    "\n",
    "\n"
   ]
  },
  {
   "cell_type": "code",
   "execution_count": 11,
   "metadata": {},
   "outputs": [
    {
     "name": "stdout",
     "output_type": "stream",
     "text": [
      "Code starting!\n",
      "Waiting 15 secs before checking bar\n",
      "15 secs are up!\n",
      "check #1\n",
      "\n",
      " NEW BAR DETECTED...\n",
      "is there an open trade? i found: None\n",
      "Ask price is: 1.16278\n",
      "1\n",
      "No trade signal detected yet\n",
      "Waiting 15 secs before checking bar\n",
      "15 secs are up!\n",
      "check #2\n",
      "tick Waiting 15 secs before checking bar\n",
      "15 secs are up!\n",
      "check #3\n",
      "tick Waiting 15 secs before checking bar\n",
      "15 secs are up!\n",
      "check #4\n",
      "tick Waiting 15 secs before checking bar\n",
      "15 secs are up!\n",
      "check #5\n",
      "tick Waiting 15 secs before checking bar\n",
      "15 secs are up!\n",
      "check #6\n",
      "\n",
      " NEW BAR DETECTED...\n",
      "is there an open trade? i found: None\n",
      "Ask price is: 1.16283\n",
      "0\n",
      "No trade signal detected yet\n",
      "Waiting 15 secs before checking bar\n",
      "15 secs are up!\n",
      "check #7\n",
      "tick Waiting 15 secs before checking bar\n",
      "15 secs are up!\n",
      "check #8\n",
      "tick Waiting 15 secs before checking bar\n",
      "15 secs are up!\n",
      "check #9\n",
      "tick Waiting 15 secs before checking bar\n",
      "15 secs are up!\n",
      "check #10\n",
      "tick Waiting 15 secs before checking bar\n",
      "15 secs are up!\n",
      "check #11\n",
      "tick Waiting 15 secs before checking bar\n",
      "15 secs are up!\n",
      "check #12\n",
      "tick Waiting 15 secs before checking bar\n",
      "15 secs are up!\n",
      "check #13\n",
      "tick Waiting 15 secs before checking bar\n",
      "15 secs are up!\n",
      "check #14\n",
      "tick Waiting 15 secs before checking bar\n"
     ]
    },
    {
     "ename": "KeyboardInterrupt",
     "evalue": "",
     "output_type": "error",
     "traceback": [
      "\u001b[1;31m---------------------------------------------------------------------------\u001b[0m",
      "\u001b[1;31mKeyboardInterrupt\u001b[0m                         Traceback (most recent call last)",
      "\u001b[1;32m<ipython-input-11-1048e8555c2a>\u001b[0m in \u001b[0;36m<module>\u001b[1;34m()\u001b[0m\n\u001b[1;32m----> 1\u001b[1;33m \u001b[0mMoving_Average_Cross_Algo\u001b[0m\u001b[1;33m(\u001b[0m\u001b[1;33m)\u001b[0m\u001b[1;33m\u001b[0m\u001b[0m\n\u001b[0m",
      "\u001b[1;32m<ipython-input-10-cb6ef3a7b9e1>\u001b[0m in \u001b[0;36mMoving_Average_Cross_Algo\u001b[1;34m()\u001b[0m\n\u001b[0;32m     10\u001b[0m     \u001b[1;32mwhile\u001b[0m \u001b[1;32mTrue\u001b[0m\u001b[1;33m:\u001b[0m\u001b[1;33m\u001b[0m\u001b[0m\n\u001b[0;32m     11\u001b[0m         \u001b[0mprint\u001b[0m\u001b[1;33m(\u001b[0m\u001b[1;34m'Waiting 15 secs before checking bar'\u001b[0m\u001b[1;33m)\u001b[0m\u001b[1;33m\u001b[0m\u001b[0m\n\u001b[1;32m---> 12\u001b[1;33m         \u001b[0mtime\u001b[0m\u001b[1;33m.\u001b[0m\u001b[0msleep\u001b[0m\u001b[1;33m(\u001b[0m\u001b[1;36m15\u001b[0m\u001b[1;33m)\u001b[0m\u001b[1;33m\u001b[0m\u001b[0m\n\u001b[0m\u001b[0;32m     13\u001b[0m         \u001b[0mprint\u001b[0m\u001b[1;33m(\u001b[0m\u001b[1;34m'15 secs are up!'\u001b[0m\u001b[1;33m)\u001b[0m\u001b[1;33m\u001b[0m\u001b[0m\n\u001b[0;32m     14\u001b[0m         \u001b[0mChecks\u001b[0m \u001b[1;33m+=\u001b[0m \u001b[1;36m1\u001b[0m\u001b[1;33m\u001b[0m\u001b[0m\n",
      "\u001b[1;31mKeyboardInterrupt\u001b[0m: "
     ]
    }
   ],
   "source": [
    "Moving_Average_Cross_Algo()"
   ]
  },
  {
   "cell_type": "code",
   "execution_count": null,
   "metadata": {},
   "outputs": [],
   "source": []
  }
 ],
 "metadata": {
  "kernelspec": {
   "display_name": "Python 3",
   "language": "python",
   "name": "python3"
  },
  "language_info": {
   "codemirror_mode": {
    "name": "ipython",
    "version": 3
   },
   "file_extension": ".py",
   "mimetype": "text/x-python",
   "name": "python",
   "nbconvert_exporter": "python",
   "pygments_lexer": "ipython3",
   "version": "3.6.5"
  }
 },
 "nbformat": 4,
 "nbformat_minor": 2
}
