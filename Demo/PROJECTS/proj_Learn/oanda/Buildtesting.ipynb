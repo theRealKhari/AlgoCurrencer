{
 "cells": [
  {
   "cell_type": "code",
   "execution_count": 1,
   "metadata": {},
   "outputs": [],
   "source": [
    "import pandas as pd\n",
    "from pandas.io.json import json_normalize\n",
    "import json\n",
    "import oandapyV20\n",
    "from oandapyV20 import API\n",
    "import oandapyV20.endpoints.pricing as pricing\n",
    "import oandapyV20.endpoints.accounts as accounts\n",
    "import oandapyV20.endpoints.instruments as instruments\n",
    "import configparser\n",
    "import sys\n",
    "sys.path.append('C:\\\\Users\\\\Khari\\\\Documents\\\\Algo\\\\Resources')\n",
    "import khariTrader as ktrade\n",
    "import importlib as imp\n",
    "import numpy as np\n",
    "import datetime\n",
    "import matplotlib.pyplot as plt"
   ]
  },
  {
   "cell_type": "code",
   "execution_count": 2,
   "metadata": {},
   "outputs": [],
   "source": [
    "import khariTrader as ktrade"
   ]
  },
  {
   "cell_type": "code",
   "execution_count": null,
   "metadata": {},
   "outputs": [],
   "source": [
    "imp.reload(ktrade)\n",
    "\n",
    "bartest = ktrade.get_currency_bars(\"EUR_USD\",\"H1\",5)\n",
    "\n",
    "bartest"
   ]
  },
  {
   "cell_type": "code",
   "execution_count": 3,
   "metadata": {},
   "outputs": [],
   "source": [
    "boo = ktrade.get_account_data()"
   ]
  },
  {
   "cell_type": "code",
   "execution_count": 9,
   "metadata": {},
   "outputs": [
    {
     "data": {
      "text/plain": [
       "[]"
      ]
     },
     "execution_count": 9,
     "metadata": {},
     "output_type": "execute_result"
    }
   ],
   "source": [
    "ktrade.parse_account_data(\"orders\",boo)"
   ]
  },
  {
   "cell_type": "code",
   "execution_count": null,
   "metadata": {},
   "outputs": [],
   "source": []
  },
  {
   "cell_type": "code",
   "execution_count": null,
   "metadata": {},
   "outputs": [],
   "source": []
  },
  {
   "cell_type": "code",
   "execution_count": null,
   "metadata": {},
   "outputs": [],
   "source": []
  },
  {
   "cell_type": "code",
   "execution_count": null,
   "metadata": {},
   "outputs": [],
   "source": []
  },
  {
   "cell_type": "code",
   "execution_count": null,
   "metadata": {},
   "outputs": [],
   "source": []
  },
  {
   "cell_type": "code",
   "execution_count": null,
   "metadata": {},
   "outputs": [],
   "source": []
  },
  {
   "cell_type": "code",
   "execution_count": null,
   "metadata": {},
   "outputs": [],
   "source": []
  },
  {
   "cell_type": "code",
   "execution_count": null,
   "metadata": {},
   "outputs": [],
   "source": []
  },
  {
   "cell_type": "code",
   "execution_count": null,
   "metadata": {},
   "outputs": [],
   "source": []
  },
  {
   "cell_type": "code",
   "execution_count": null,
   "metadata": {},
   "outputs": [],
   "source": []
  },
  {
   "cell_type": "code",
   "execution_count": null,
   "metadata": {},
   "outputs": [],
   "source": []
  },
  {
   "cell_type": "code",
   "execution_count": null,
   "metadata": {},
   "outputs": [],
   "source": []
  },
  {
   "cell_type": "code",
   "execution_count": null,
   "metadata": {},
   "outputs": [],
   "source": [
    "norm = json_normalize(bartest['candles'])\n",
    "norm.set_index(norm['time'].apply(pd.to_datetime),inplace=True)\n",
    "norm"
   ]
  },
  {
   "cell_type": "code",
   "execution_count": null,
   "metadata": {},
   "outputs": [],
   "source": [
    "ret_df = pd.DataFrame(np.zeros((5,6)),index=norm['time'].apply(pd.to_datetime),columns='Open High Low Close Volume Complete'.split())"
   ]
  },
  {
   "cell_type": "code",
   "execution_count": null,
   "metadata": {},
   "outputs": [],
   "source": [
    "ret_df"
   ]
  },
  {
   "cell_type": "code",
   "execution_count": null,
   "metadata": {},
   "outputs": [],
   "source": [
    "norm"
   ]
  },
  {
   "cell_type": "code",
   "execution_count": null,
   "metadata": {},
   "outputs": [],
   "source": [
    "ret_df['Open'] = norm['mid.o']\n",
    "ret_df"
   ]
  },
  {
   "cell_type": "code",
   "execution_count": null,
   "metadata": {},
   "outputs": [],
   "source": [
    "imp.reload(ktrade)\n",
    "\n",
    "pricetest = ktrade.get_currency_info('EUR_USD')\n",
    "\n",
    "pricetest"
   ]
  },
  {
   "cell_type": "code",
   "execution_count": null,
   "metadata": {},
   "outputs": [],
   "source": [
    "askprice = float(pricetest['prices'][0]['asks'][0]['price'])\n",
    "bidprice = float(pricetest['prices'][0]['bids'][0]['price'])\n",
    "tradeable = pricetest['prices'][0]['tradeable']\n",
    "ua = pricetest['prices'][0]['unitsAvailable']['default']\n"
   ]
  },
  {
   "cell_type": "code",
   "execution_count": null,
   "metadata": {},
   "outputs": [],
   "source": [
    "imp.reload(ktrade)\n",
    "\n",
    "\n",
    "ktrade.parse_currency_info('units_available',pricetest)"
   ]
  },
  {
   "cell_type": "code",
   "execution_count": null,
   "metadata": {},
   "outputs": [],
   "source": [
    "imp.reload(ktrade)\n",
    "\n",
    "billos = ktrade.get_account_data()"
   ]
  },
  {
   "cell_type": "code",
   "execution_count": null,
   "metadata": {},
   "outputs": [],
   "source": [
    "billos"
   ]
  },
  {
   "cell_type": "code",
   "execution_count": null,
   "metadata": {},
   "outputs": [],
   "source": [
    "balance = float(billos['account']['balance'])\n",
    "marginUsed = float(billos['account']['marginUsed'])\n",
    "margina = float(billos['account']['marginAvailable'])\n",
    "unrealizedpl = float(billos['account']['unrealizedPL'])\n",
    "trades = billos['account']['trades']\n",
    "orders = billos['account']['orders']\n",
    "\n",
    "ktrade.parse_\n"
   ]
  },
  {
   "cell_type": "code",
   "execution_count": null,
   "metadata": {},
   "outputs": [],
   "source": [
    "imp.reload(ktrade)\n",
    "\n",
    "ktrade.parse_account_data('orderss',billos)\n",
    "\n",
    "\n"
   ]
  },
  {
   "cell_type": "code",
   "execution_count": null,
   "metadata": {},
   "outputs": [],
   "source": [
    "units = 233\n",
    "\n"
   ]
  },
  {
   "cell_type": "code",
   "execution_count": null,
   "metadata": {},
   "outputs": [],
   "source": [
    "units"
   ]
  },
  {
   "cell_type": "code",
   "execution_count": null,
   "metadata": {},
   "outputs": [],
   "source": [
    "units*= -1"
   ]
  },
  {
   "cell_type": "code",
   "execution_count": null,
   "metadata": {},
   "outputs": [],
   "source": [
    "units"
   ]
  },
  {
   "cell_type": "code",
   "execution_count": null,
   "metadata": {},
   "outputs": [],
   "source": [
    "imp.reload(ktrade)"
   ]
  },
  {
   "cell_type": "code",
   "execution_count": null,
   "metadata": {},
   "outputs": [],
   "source": [
    "notrade = ktrade.pending_order(\"EUR_USD\",'buy',price=1.16536,units=7000,stopLoss=1.1652,takeProfit=1.16620)\n",
    "print('ohtrade')"
   ]
  },
  {
   "cell_type": "code",
   "execution_count": null,
   "metadata": {},
   "outputs": [],
   "source": [
    "print(ohtrade)"
   ]
  },
  {
   "cell_type": "code",
   "execution_count": null,
   "metadata": {},
   "outputs": [],
   "source": [
    "ohtrade['orderCreateTransaction']['id']"
   ]
  },
  {
   "cell_type": "code",
   "execution_count": null,
   "metadata": {},
   "outputs": [],
   "source": [
    "if ohtrade:\n",
    "    print(\"hess\")"
   ]
  },
  {
   "cell_type": "code",
   "execution_count": null,
   "metadata": {},
   "outputs": [],
   "source": [
    "imp.reload(ktrade)"
   ]
  },
  {
   "cell_type": "code",
   "execution_count": null,
   "metadata": {},
   "outputs": [],
   "source": [
    "outy = ktrade.market_order(\"EUR_USD\",'sell',4000,1.166,1.165)"
   ]
  },
  {
   "cell_type": "code",
   "execution_count": 390,
   "metadata": {},
   "outputs": [
    {
     "data": {
      "text/plain": [
       "<module 'khariTrader' from 'C:\\\\Users\\\\Khari\\\\Documents\\\\Algo\\\\Resources\\\\khariTrader.py'>"
      ]
     },
     "execution_count": 390,
     "metadata": {},
     "output_type": "execute_result"
    }
   ],
   "source": [
    "imp.reload(ktrade)"
   ]
  },
  {
   "cell_type": "code",
   "execution_count": null,
   "metadata": {},
   "outputs": [],
   "source": [
    "ktrade.cancel_pending_order(441)"
   ]
  },
  {
   "cell_type": "code",
   "execution_count": null,
   "metadata": {},
   "outputs": [],
   "source": [
    "ktrade.close_position(444)"
   ]
  },
  {
   "cell_type": "code",
   "execution_count": null,
   "metadata": {},
   "outputs": [],
   "source": []
  },
  {
   "cell_type": "code",
   "execution_count": 342,
   "metadata": {},
   "outputs": [
    {
     "data": {
      "text/plain": [
       "<module 'khariTrader' from 'C:\\\\Users\\\\Khari\\\\Documents\\\\Algo\\\\Resources\\\\khariTrader.py'>"
      ]
     },
     "execution_count": 342,
     "metadata": {},
     "output_type": "execute_result"
    }
   ],
   "source": [
    "imp.reload(ktrade)"
   ]
  },
  {
   "cell_type": "code",
   "execution_count": 13,
   "metadata": {},
   "outputs": [],
   "source": [
    "ticks = ktrade.event_new_bar(\"EUR_USD\")"
   ]
  },
  {
   "cell_type": "code",
   "execution_count": 14,
   "metadata": {},
   "outputs": [
    {
     "name": "stdout",
     "output_type": "stream",
     "text": [
      "{'type': 'PRICE', 'time': '2018-07-03T01:26:04.120877983Z', 'bids': [{'price': '1.16319', 'liquidity': 10000000}], 'asks': [{'price': '1.16334', 'liquidity': 10000000}], 'closeoutBid': '1.16304', 'closeoutAsk': '1.16349', 'status': 'tradeable', 'tradeable': True, 'instrument': 'EUR_USD'}\n",
      "The current price is: 1.16319\n",
      "OMG THIS IS A NEW BAR CRAZY\n",
      "CRAZY OH BOY CAZE \n",
      " CRALALALA\n",
      "{'type': 'PRICE', 'time': '2018-07-03T01:26:09.112957125Z', 'bids': [{'price': '1.16314', 'liquidity': 10000000}], 'asks': [{'price': '1.16329', 'liquidity': 10000000}], 'closeoutBid': '1.16299', 'closeoutAsk': '1.16344', 'status': 'tradeable', 'tradeable': True, 'instrument': 'EUR_USD'}\n",
      "The current price is: 1.16314\n",
      "This is the same bar nothing special :(\n",
      "{'type': 'PRICE', 'time': '2018-07-03T01:26:09.127121423Z', 'bids': [{'price': '1.16313', 'liquidity': 10000000}], 'asks': [{'price': '1.16329', 'liquidity': 10000000}], 'closeoutBid': '1.16298', 'closeoutAsk': '1.16344', 'status': 'tradeable', 'tradeable': True, 'instrument': 'EUR_USD'}\n",
      "The current price is: 1.16313\n",
      "This is the same bar nothing special :(\n",
      "{'type': 'PRICE', 'time': '2018-07-03T01:26:09.492701273Z', 'bids': [{'price': '1.16313', 'liquidity': 10000000}], 'asks': [{'price': '1.16327', 'liquidity': 10000000}], 'closeoutBid': '1.16298', 'closeoutAsk': '1.16342', 'status': 'tradeable', 'tradeable': True, 'instrument': 'EUR_USD'}\n",
      "The current price is: 1.16313\n",
      "This is the same bar nothing special :(\n",
      "{'type': 'PRICE', 'time': '2018-07-03T01:26:09.627553332Z', 'bids': [{'price': '1.16312', 'liquidity': 10000000}], 'asks': [{'price': '1.16327', 'liquidity': 10000000}], 'closeoutBid': '1.16297', 'closeoutAsk': '1.16342', 'status': 'tradeable', 'tradeable': True, 'instrument': 'EUR_USD'}\n",
      "The current price is: 1.16312\n",
      "This is the same bar nothing special :(\n",
      "{'type': 'PRICE', 'time': '2018-07-03T01:26:11.491074942Z', 'bids': [{'price': '1.16312', 'liquidity': 10000000}], 'asks': [{'price': '1.16327', 'liquidity': 10000000}], 'closeoutBid': '1.16297', 'closeoutAsk': '1.16342', 'status': 'tradeable', 'tradeable': True, 'instrument': 'EUR_USD'}\n",
      "The current price is: 1.16312\n",
      "This is the same bar nothing special :(\n",
      "{'type': 'PRICE', 'time': '2018-07-03T01:26:11.728071344Z', 'bids': [{'price': '1.16314', 'liquidity': 10000000}], 'asks': [{'price': '1.16329', 'liquidity': 10000000}], 'closeoutBid': '1.16299', 'closeoutAsk': '1.16344', 'status': 'tradeable', 'tradeable': True, 'instrument': 'EUR_USD'}\n",
      "The current price is: 1.16314\n",
      "This is the same bar nothing special :(\n",
      "{'type': 'HEARTBEAT', 'time': '2018-07-03T01:26:13.145724035Z'}\n",
      "{'type': 'PRICE', 'time': '2018-07-03T01:26:14.017450584Z', 'bids': [{'price': '1.16315', 'liquidity': 10000000}], 'asks': [{'price': '1.16328', 'liquidity': 10000000}], 'closeoutBid': '1.16300', 'closeoutAsk': '1.16343', 'status': 'tradeable', 'tradeable': True, 'instrument': 'EUR_USD'}\n",
      "The current price is: 1.16315\n",
      "This is the same bar nothing special :(\n",
      "{'type': 'HEARTBEAT', 'time': '2018-07-03T01:26:18.152891719Z'}\n",
      "{'type': 'PRICE', 'time': '2018-07-03T01:26:18.610685256Z', 'bids': [{'price': '1.16310', 'liquidity': 10000000}], 'asks': [{'price': '1.16324', 'liquidity': 10000000}], 'closeoutBid': '1.16295', 'closeoutAsk': '1.16339', 'status': 'tradeable', 'tradeable': True, 'instrument': 'EUR_USD'}\n",
      "The current price is: 1.16310\n",
      "This is the same bar nothing special :(\n",
      "{'type': 'PRICE', 'time': '2018-07-03T01:26:18.852380142Z', 'bids': [{'price': '1.16311', 'liquidity': 10000000}], 'asks': [{'price': '1.16326', 'liquidity': 10000000}], 'closeoutBid': '1.16296', 'closeoutAsk': '1.16341', 'status': 'tradeable', 'tradeable': True, 'instrument': 'EUR_USD'}\n",
      "The current price is: 1.16311\n",
      "This is the same bar nothing special :(\n",
      "{'type': 'PRICE', 'time': '2018-07-03T01:26:19.244486241Z', 'bids': [{'price': '1.16310', 'liquidity': 10000000}], 'asks': [{'price': '1.16326', 'liquidity': 10000000}], 'closeoutBid': '1.16295', 'closeoutAsk': '1.16341', 'status': 'tradeable', 'tradeable': True, 'instrument': 'EUR_USD'}\n",
      "The current price is: 1.16310\n",
      "This is the same bar nothing special :(\n",
      "{'type': 'PRICE', 'time': '2018-07-03T01:26:19.788176716Z', 'bids': [{'price': '1.16310', 'liquidity': 10000000}], 'asks': [{'price': '1.16325', 'liquidity': 10000000}], 'closeoutBid': '1.16295', 'closeoutAsk': '1.16340', 'status': 'tradeable', 'tradeable': True, 'instrument': 'EUR_USD'}\n",
      "The current price is: 1.16310\n",
      "This is the same bar nothing special :(\n",
      "{'type': 'PRICE', 'time': '2018-07-03T01:26:21.077634935Z', 'bids': [{'price': '1.16309', 'liquidity': 10000000}], 'asks': [{'price': '1.16325', 'liquidity': 10000000}], 'closeoutBid': '1.16294', 'closeoutAsk': '1.16340', 'status': 'tradeable', 'tradeable': True, 'instrument': 'EUR_USD'}\n",
      "The current price is: 1.16309\n",
      "This is the same bar nothing special :(\n",
      "{'type': 'PRICE', 'time': '2018-07-03T01:26:21.253140441Z', 'bids': [{'price': '1.16310', 'liquidity': 10000000}], 'asks': [{'price': '1.16324', 'liquidity': 10000000}], 'closeoutBid': '1.16295', 'closeoutAsk': '1.16339', 'status': 'tradeable', 'tradeable': True, 'instrument': 'EUR_USD'}\n",
      "The current price is: 1.16310\n",
      "This is the same bar nothing special :(\n",
      "{'type': 'HEARTBEAT', 'time': '2018-07-03T01:26:23.161926992Z'}\n",
      "{'type': 'HEARTBEAT', 'time': '2018-07-03T01:26:28.166736006Z'}\n",
      "{'type': 'PRICE', 'time': '2018-07-03T01:26:30.417781989Z', 'bids': [{'price': '1.16310', 'liquidity': 10000000}], 'asks': [{'price': '1.16326', 'liquidity': 10000000}], 'closeoutBid': '1.16295', 'closeoutAsk': '1.16341', 'status': 'tradeable', 'tradeable': True, 'instrument': 'EUR_USD'}\n",
      "The current price is: 1.16310\n",
      "This is the same bar nothing special :(\n",
      "{'type': 'PRICE', 'time': '2018-07-03T01:26:31.457423243Z', 'bids': [{'price': '1.16311', 'liquidity': 10000000}], 'asks': [{'price': '1.16325', 'liquidity': 10000000}], 'closeoutBid': '1.16296', 'closeoutAsk': '1.16340', 'status': 'tradeable', 'tradeable': True, 'instrument': 'EUR_USD'}\n",
      "The current price is: 1.16311\n",
      "This is the same bar nothing special :(\n",
      "{'type': 'PRICE', 'time': '2018-07-03T01:26:32.105152492Z', 'bids': [{'price': '1.16311', 'liquidity': 10000000}], 'asks': [{'price': '1.16326', 'liquidity': 10000000}], 'closeoutBid': '1.16296', 'closeoutAsk': '1.16341', 'status': 'tradeable', 'tradeable': True, 'instrument': 'EUR_USD'}\n",
      "The current price is: 1.16311\n",
      "This is the same bar nothing special :(\n",
      "{'type': 'HEARTBEAT', 'time': '2018-07-03T01:26:33.205843924Z'}\n",
      "{'type': 'PRICE', 'time': '2018-07-03T01:26:35.307161718Z', 'bids': [{'price': '1.16316', 'liquidity': 10000000}], 'asks': [{'price': '1.16331', 'liquidity': 10000000}], 'closeoutBid': '1.16301', 'closeoutAsk': '1.16346', 'status': 'tradeable', 'tradeable': True, 'instrument': 'EUR_USD'}\n",
      "The current price is: 1.16316\n",
      "This is the same bar nothing special :(\n"
     ]
    },
    {
     "ename": "KeyboardInterrupt",
     "evalue": "",
     "output_type": "error",
     "traceback": [
      "\u001b[1;31m---------------------------------------------------------------------------\u001b[0m",
      "\u001b[1;31mKeyboardInterrupt\u001b[0m                         Traceback (most recent call last)",
      "\u001b[1;32m<ipython-input-14-90a43d6bb462>\u001b[0m in \u001b[0;36m<module>\u001b[1;34m()\u001b[0m\n\u001b[0;32m      1\u001b[0m \u001b[0moldBar\u001b[0m \u001b[1;33m=\u001b[0m \u001b[1;32mNone\u001b[0m\u001b[1;33m\u001b[0m\u001b[0m\n\u001b[1;32m----> 2\u001b[1;33m \u001b[1;32mfor\u001b[0m \u001b[0mtick\u001b[0m \u001b[1;32min\u001b[0m \u001b[0mticks\u001b[0m\u001b[1;33m:\u001b[0m\u001b[1;33m\u001b[0m\u001b[0m\n\u001b[0m\u001b[0;32m      3\u001b[0m     \u001b[0mprint\u001b[0m\u001b[1;33m(\u001b[0m\u001b[0mtick\u001b[0m\u001b[1;33m)\u001b[0m\u001b[1;33m\u001b[0m\u001b[0m\n\u001b[0;32m      4\u001b[0m     \u001b[1;32mif\u001b[0m \u001b[0mtick\u001b[0m\u001b[1;33m[\u001b[0m\u001b[1;34m'type'\u001b[0m\u001b[1;33m]\u001b[0m \u001b[1;33m==\u001b[0m \u001b[1;34m'PRICE'\u001b[0m\u001b[1;33m:\u001b[0m\u001b[1;33m\u001b[0m\u001b[0m\n\u001b[0;32m      5\u001b[0m         \u001b[0mprint\u001b[0m\u001b[1;33m(\u001b[0m\u001b[1;34m'The current price is: '\u001b[0m\u001b[1;33m+\u001b[0m\u001b[0mtick\u001b[0m\u001b[1;33m[\u001b[0m\u001b[1;34m'bids'\u001b[0m\u001b[1;33m]\u001b[0m\u001b[1;33m[\u001b[0m\u001b[1;36m0\u001b[0m\u001b[1;33m]\u001b[0m\u001b[1;33m[\u001b[0m\u001b[1;34m'price'\u001b[0m\u001b[1;33m]\u001b[0m\u001b[1;33m)\u001b[0m\u001b[1;33m\u001b[0m\u001b[0m\n",
      "\u001b[1;32m~\\Anaconda3\\envs\\oandaEnv\\lib\\site-packages\\oandapyV20\\oandapyV20.py\u001b[0m in \u001b[0;36m__stream_request\u001b[1;34m(self, method, url, request_args, headers)\u001b[0m\n\u001b[0;32m    255\u001b[0m                                   headers=headers, stream=True)\n\u001b[0;32m    256\u001b[0m         \u001b[0mlines\u001b[0m \u001b[1;33m=\u001b[0m \u001b[0mresponse\u001b[0m\u001b[1;33m.\u001b[0m\u001b[0miter_lines\u001b[0m\u001b[1;33m(\u001b[0m\u001b[0mITER_LINES_CHUNKSIZE\u001b[0m\u001b[1;33m)\u001b[0m\u001b[1;33m\u001b[0m\u001b[0m\n\u001b[1;32m--> 257\u001b[1;33m         \u001b[1;32mfor\u001b[0m \u001b[0mline\u001b[0m \u001b[1;32min\u001b[0m \u001b[0mlines\u001b[0m\u001b[1;33m:\u001b[0m\u001b[1;33m\u001b[0m\u001b[0m\n\u001b[0m\u001b[0;32m    258\u001b[0m             \u001b[1;32mif\u001b[0m \u001b[0mline\u001b[0m\u001b[1;33m:\u001b[0m\u001b[1;33m\u001b[0m\u001b[0m\n\u001b[0;32m    259\u001b[0m                 \u001b[0mdata\u001b[0m \u001b[1;33m=\u001b[0m \u001b[0mjson\u001b[0m\u001b[1;33m.\u001b[0m\u001b[0mloads\u001b[0m\u001b[1;33m(\u001b[0m\u001b[0mline\u001b[0m\u001b[1;33m.\u001b[0m\u001b[0mdecode\u001b[0m\u001b[1;33m(\u001b[0m\u001b[1;34m\"utf-8\"\u001b[0m\u001b[1;33m)\u001b[0m\u001b[1;33m)\u001b[0m\u001b[1;33m\u001b[0m\u001b[0m\n",
      "\u001b[1;32m~\\Anaconda3\\envs\\oandaEnv\\lib\\site-packages\\requests\\models.py\u001b[0m in \u001b[0;36miter_lines\u001b[1;34m(self, chunk_size, decode_unicode, delimiter)\u001b[0m\n\u001b[0;32m    787\u001b[0m         \u001b[0mpending\u001b[0m \u001b[1;33m=\u001b[0m \u001b[1;32mNone\u001b[0m\u001b[1;33m\u001b[0m\u001b[0m\n\u001b[0;32m    788\u001b[0m \u001b[1;33m\u001b[0m\u001b[0m\n\u001b[1;32m--> 789\u001b[1;33m         \u001b[1;32mfor\u001b[0m \u001b[0mchunk\u001b[0m \u001b[1;32min\u001b[0m \u001b[0mself\u001b[0m\u001b[1;33m.\u001b[0m\u001b[0miter_content\u001b[0m\u001b[1;33m(\u001b[0m\u001b[0mchunk_size\u001b[0m\u001b[1;33m=\u001b[0m\u001b[0mchunk_size\u001b[0m\u001b[1;33m,\u001b[0m \u001b[0mdecode_unicode\u001b[0m\u001b[1;33m=\u001b[0m\u001b[0mdecode_unicode\u001b[0m\u001b[1;33m)\u001b[0m\u001b[1;33m:\u001b[0m\u001b[1;33m\u001b[0m\u001b[0m\n\u001b[0m\u001b[0;32m    790\u001b[0m \u001b[1;33m\u001b[0m\u001b[0m\n\u001b[0;32m    791\u001b[0m             \u001b[1;32mif\u001b[0m \u001b[0mpending\u001b[0m \u001b[1;32mis\u001b[0m \u001b[1;32mnot\u001b[0m \u001b[1;32mNone\u001b[0m\u001b[1;33m:\u001b[0m\u001b[1;33m\u001b[0m\u001b[0m\n",
      "\u001b[1;32m~\\Anaconda3\\envs\\oandaEnv\\lib\\site-packages\\requests\\models.py\u001b[0m in \u001b[0;36mgenerate\u001b[1;34m()\u001b[0m\n\u001b[0;32m    743\u001b[0m             \u001b[1;32mif\u001b[0m \u001b[0mhasattr\u001b[0m\u001b[1;33m(\u001b[0m\u001b[0mself\u001b[0m\u001b[1;33m.\u001b[0m\u001b[0mraw\u001b[0m\u001b[1;33m,\u001b[0m \u001b[1;34m'stream'\u001b[0m\u001b[1;33m)\u001b[0m\u001b[1;33m:\u001b[0m\u001b[1;33m\u001b[0m\u001b[0m\n\u001b[0;32m    744\u001b[0m                 \u001b[1;32mtry\u001b[0m\u001b[1;33m:\u001b[0m\u001b[1;33m\u001b[0m\u001b[0m\n\u001b[1;32m--> 745\u001b[1;33m                     \u001b[1;32mfor\u001b[0m \u001b[0mchunk\u001b[0m \u001b[1;32min\u001b[0m \u001b[0mself\u001b[0m\u001b[1;33m.\u001b[0m\u001b[0mraw\u001b[0m\u001b[1;33m.\u001b[0m\u001b[0mstream\u001b[0m\u001b[1;33m(\u001b[0m\u001b[0mchunk_size\u001b[0m\u001b[1;33m,\u001b[0m \u001b[0mdecode_content\u001b[0m\u001b[1;33m=\u001b[0m\u001b[1;32mTrue\u001b[0m\u001b[1;33m)\u001b[0m\u001b[1;33m:\u001b[0m\u001b[1;33m\u001b[0m\u001b[0m\n\u001b[0m\u001b[0;32m    746\u001b[0m                         \u001b[1;32myield\u001b[0m \u001b[0mchunk\u001b[0m\u001b[1;33m\u001b[0m\u001b[0m\n\u001b[0;32m    747\u001b[0m                 \u001b[1;32mexcept\u001b[0m \u001b[0mProtocolError\u001b[0m \u001b[1;32mas\u001b[0m \u001b[0me\u001b[0m\u001b[1;33m:\u001b[0m\u001b[1;33m\u001b[0m\u001b[0m\n",
      "\u001b[1;32m~\\Anaconda3\\envs\\oandaEnv\\lib\\site-packages\\urllib3\\response.py\u001b[0m in \u001b[0;36mstream\u001b[1;34m(self, amt, decode_content)\u001b[0m\n\u001b[0;32m    430\u001b[0m         \"\"\"\n\u001b[0;32m    431\u001b[0m         \u001b[1;32mif\u001b[0m \u001b[0mself\u001b[0m\u001b[1;33m.\u001b[0m\u001b[0mchunked\u001b[0m \u001b[1;32mand\u001b[0m \u001b[0mself\u001b[0m\u001b[1;33m.\u001b[0m\u001b[0msupports_chunked_reads\u001b[0m\u001b[1;33m(\u001b[0m\u001b[1;33m)\u001b[0m\u001b[1;33m:\u001b[0m\u001b[1;33m\u001b[0m\u001b[0m\n\u001b[1;32m--> 432\u001b[1;33m             \u001b[1;32mfor\u001b[0m \u001b[0mline\u001b[0m \u001b[1;32min\u001b[0m \u001b[0mself\u001b[0m\u001b[1;33m.\u001b[0m\u001b[0mread_chunked\u001b[0m\u001b[1;33m(\u001b[0m\u001b[0mamt\u001b[0m\u001b[1;33m,\u001b[0m \u001b[0mdecode_content\u001b[0m\u001b[1;33m=\u001b[0m\u001b[0mdecode_content\u001b[0m\u001b[1;33m)\u001b[0m\u001b[1;33m:\u001b[0m\u001b[1;33m\u001b[0m\u001b[0m\n\u001b[0m\u001b[0;32m    433\u001b[0m                 \u001b[1;32myield\u001b[0m \u001b[0mline\u001b[0m\u001b[1;33m\u001b[0m\u001b[0m\n\u001b[0;32m    434\u001b[0m         \u001b[1;32melse\u001b[0m\u001b[1;33m:\u001b[0m\u001b[1;33m\u001b[0m\u001b[0m\n",
      "\u001b[1;32m~\\Anaconda3\\envs\\oandaEnv\\lib\\site-packages\\urllib3\\response.py\u001b[0m in \u001b[0;36mread_chunked\u001b[1;34m(self, amt, decode_content)\u001b[0m\n\u001b[0;32m    596\u001b[0m         \u001b[1;32mwith\u001b[0m \u001b[0mself\u001b[0m\u001b[1;33m.\u001b[0m\u001b[0m_error_catcher\u001b[0m\u001b[1;33m(\u001b[0m\u001b[1;33m)\u001b[0m\u001b[1;33m:\u001b[0m\u001b[1;33m\u001b[0m\u001b[0m\n\u001b[0;32m    597\u001b[0m             \u001b[1;32mwhile\u001b[0m \u001b[1;32mTrue\u001b[0m\u001b[1;33m:\u001b[0m\u001b[1;33m\u001b[0m\u001b[0m\n\u001b[1;32m--> 598\u001b[1;33m                 \u001b[0mself\u001b[0m\u001b[1;33m.\u001b[0m\u001b[0m_update_chunk_length\u001b[0m\u001b[1;33m(\u001b[0m\u001b[1;33m)\u001b[0m\u001b[1;33m\u001b[0m\u001b[0m\n\u001b[0m\u001b[0;32m    599\u001b[0m                 \u001b[1;32mif\u001b[0m \u001b[0mself\u001b[0m\u001b[1;33m.\u001b[0m\u001b[0mchunk_left\u001b[0m \u001b[1;33m==\u001b[0m \u001b[1;36m0\u001b[0m\u001b[1;33m:\u001b[0m\u001b[1;33m\u001b[0m\u001b[0m\n\u001b[0;32m    600\u001b[0m                     \u001b[1;32mbreak\u001b[0m\u001b[1;33m\u001b[0m\u001b[0m\n",
      "\u001b[1;32m~\\Anaconda3\\envs\\oandaEnv\\lib\\site-packages\\urllib3\\response.py\u001b[0m in \u001b[0;36m_update_chunk_length\u001b[1;34m(self)\u001b[0m\n\u001b[0;32m    538\u001b[0m         \u001b[1;32mif\u001b[0m \u001b[0mself\u001b[0m\u001b[1;33m.\u001b[0m\u001b[0mchunk_left\u001b[0m \u001b[1;32mis\u001b[0m \u001b[1;32mnot\u001b[0m \u001b[1;32mNone\u001b[0m\u001b[1;33m:\u001b[0m\u001b[1;33m\u001b[0m\u001b[0m\n\u001b[0;32m    539\u001b[0m             \u001b[1;32mreturn\u001b[0m\u001b[1;33m\u001b[0m\u001b[0m\n\u001b[1;32m--> 540\u001b[1;33m         \u001b[0mline\u001b[0m \u001b[1;33m=\u001b[0m \u001b[0mself\u001b[0m\u001b[1;33m.\u001b[0m\u001b[0m_fp\u001b[0m\u001b[1;33m.\u001b[0m\u001b[0mfp\u001b[0m\u001b[1;33m.\u001b[0m\u001b[0mreadline\u001b[0m\u001b[1;33m(\u001b[0m\u001b[1;33m)\u001b[0m\u001b[1;33m\u001b[0m\u001b[0m\n\u001b[0m\u001b[0;32m    541\u001b[0m         \u001b[0mline\u001b[0m \u001b[1;33m=\u001b[0m \u001b[0mline\u001b[0m\u001b[1;33m.\u001b[0m\u001b[0msplit\u001b[0m\u001b[1;33m(\u001b[0m\u001b[1;34mb';'\u001b[0m\u001b[1;33m,\u001b[0m \u001b[1;36m1\u001b[0m\u001b[1;33m)\u001b[0m\u001b[1;33m[\u001b[0m\u001b[1;36m0\u001b[0m\u001b[1;33m]\u001b[0m\u001b[1;33m\u001b[0m\u001b[0m\n\u001b[0;32m    542\u001b[0m         \u001b[1;32mtry\u001b[0m\u001b[1;33m:\u001b[0m\u001b[1;33m\u001b[0m\u001b[0m\n",
      "\u001b[1;32m~\\Anaconda3\\envs\\oandaEnv\\lib\\socket.py\u001b[0m in \u001b[0;36mreadinto\u001b[1;34m(self, b)\u001b[0m\n\u001b[0;32m    584\u001b[0m         \u001b[1;32mwhile\u001b[0m \u001b[1;32mTrue\u001b[0m\u001b[1;33m:\u001b[0m\u001b[1;33m\u001b[0m\u001b[0m\n\u001b[0;32m    585\u001b[0m             \u001b[1;32mtry\u001b[0m\u001b[1;33m:\u001b[0m\u001b[1;33m\u001b[0m\u001b[0m\n\u001b[1;32m--> 586\u001b[1;33m                 \u001b[1;32mreturn\u001b[0m \u001b[0mself\u001b[0m\u001b[1;33m.\u001b[0m\u001b[0m_sock\u001b[0m\u001b[1;33m.\u001b[0m\u001b[0mrecv_into\u001b[0m\u001b[1;33m(\u001b[0m\u001b[0mb\u001b[0m\u001b[1;33m)\u001b[0m\u001b[1;33m\u001b[0m\u001b[0m\n\u001b[0m\u001b[0;32m    587\u001b[0m             \u001b[1;32mexcept\u001b[0m \u001b[0mtimeout\u001b[0m\u001b[1;33m:\u001b[0m\u001b[1;33m\u001b[0m\u001b[0m\n\u001b[0;32m    588\u001b[0m                 \u001b[0mself\u001b[0m\u001b[1;33m.\u001b[0m\u001b[0m_timeout_occurred\u001b[0m \u001b[1;33m=\u001b[0m \u001b[1;32mTrue\u001b[0m\u001b[1;33m\u001b[0m\u001b[0m\n",
      "\u001b[1;32m~\\Anaconda3\\envs\\oandaEnv\\lib\\ssl.py\u001b[0m in \u001b[0;36mrecv_into\u001b[1;34m(self, buffer, nbytes, flags)\u001b[0m\n\u001b[0;32m   1007\u001b[0m                   \u001b[1;34m\"non-zero flags not allowed in calls to recv_into() on %s\"\u001b[0m \u001b[1;33m%\u001b[0m\u001b[1;33m\u001b[0m\u001b[0m\n\u001b[0;32m   1008\u001b[0m                   self.__class__)\n\u001b[1;32m-> 1009\u001b[1;33m             \u001b[1;32mreturn\u001b[0m \u001b[0mself\u001b[0m\u001b[1;33m.\u001b[0m\u001b[0mread\u001b[0m\u001b[1;33m(\u001b[0m\u001b[0mnbytes\u001b[0m\u001b[1;33m,\u001b[0m \u001b[0mbuffer\u001b[0m\u001b[1;33m)\u001b[0m\u001b[1;33m\u001b[0m\u001b[0m\n\u001b[0m\u001b[0;32m   1010\u001b[0m         \u001b[1;32melse\u001b[0m\u001b[1;33m:\u001b[0m\u001b[1;33m\u001b[0m\u001b[0m\n\u001b[0;32m   1011\u001b[0m             \u001b[1;32mreturn\u001b[0m \u001b[0msocket\u001b[0m\u001b[1;33m.\u001b[0m\u001b[0mrecv_into\u001b[0m\u001b[1;33m(\u001b[0m\u001b[0mself\u001b[0m\u001b[1;33m,\u001b[0m \u001b[0mbuffer\u001b[0m\u001b[1;33m,\u001b[0m \u001b[0mnbytes\u001b[0m\u001b[1;33m,\u001b[0m \u001b[0mflags\u001b[0m\u001b[1;33m)\u001b[0m\u001b[1;33m\u001b[0m\u001b[0m\n",
      "\u001b[1;32m~\\Anaconda3\\envs\\oandaEnv\\lib\\ssl.py\u001b[0m in \u001b[0;36mread\u001b[1;34m(self, len, buffer)\u001b[0m\n\u001b[0;32m    869\u001b[0m             \u001b[1;32mraise\u001b[0m \u001b[0mValueError\u001b[0m\u001b[1;33m(\u001b[0m\u001b[1;34m\"Read on closed or unwrapped SSL socket.\"\u001b[0m\u001b[1;33m)\u001b[0m\u001b[1;33m\u001b[0m\u001b[0m\n\u001b[0;32m    870\u001b[0m         \u001b[1;32mtry\u001b[0m\u001b[1;33m:\u001b[0m\u001b[1;33m\u001b[0m\u001b[0m\n\u001b[1;32m--> 871\u001b[1;33m             \u001b[1;32mreturn\u001b[0m \u001b[0mself\u001b[0m\u001b[1;33m.\u001b[0m\u001b[0m_sslobj\u001b[0m\u001b[1;33m.\u001b[0m\u001b[0mread\u001b[0m\u001b[1;33m(\u001b[0m\u001b[0mlen\u001b[0m\u001b[1;33m,\u001b[0m \u001b[0mbuffer\u001b[0m\u001b[1;33m)\u001b[0m\u001b[1;33m\u001b[0m\u001b[0m\n\u001b[0m\u001b[0;32m    872\u001b[0m         \u001b[1;32mexcept\u001b[0m \u001b[0mSSLError\u001b[0m \u001b[1;32mas\u001b[0m \u001b[0mx\u001b[0m\u001b[1;33m:\u001b[0m\u001b[1;33m\u001b[0m\u001b[0m\n\u001b[0;32m    873\u001b[0m             \u001b[1;32mif\u001b[0m \u001b[0mx\u001b[0m\u001b[1;33m.\u001b[0m\u001b[0margs\u001b[0m\u001b[1;33m[\u001b[0m\u001b[1;36m0\u001b[0m\u001b[1;33m]\u001b[0m \u001b[1;33m==\u001b[0m \u001b[0mSSL_ERROR_EOF\u001b[0m \u001b[1;32mand\u001b[0m \u001b[0mself\u001b[0m\u001b[1;33m.\u001b[0m\u001b[0msuppress_ragged_eofs\u001b[0m\u001b[1;33m:\u001b[0m\u001b[1;33m\u001b[0m\u001b[0m\n",
      "\u001b[1;32m~\\Anaconda3\\envs\\oandaEnv\\lib\\ssl.py\u001b[0m in \u001b[0;36mread\u001b[1;34m(self, len, buffer)\u001b[0m\n\u001b[0;32m    629\u001b[0m         \"\"\"\n\u001b[0;32m    630\u001b[0m         \u001b[1;32mif\u001b[0m \u001b[0mbuffer\u001b[0m \u001b[1;32mis\u001b[0m \u001b[1;32mnot\u001b[0m \u001b[1;32mNone\u001b[0m\u001b[1;33m:\u001b[0m\u001b[1;33m\u001b[0m\u001b[0m\n\u001b[1;32m--> 631\u001b[1;33m             \u001b[0mv\u001b[0m \u001b[1;33m=\u001b[0m \u001b[0mself\u001b[0m\u001b[1;33m.\u001b[0m\u001b[0m_sslobj\u001b[0m\u001b[1;33m.\u001b[0m\u001b[0mread\u001b[0m\u001b[1;33m(\u001b[0m\u001b[0mlen\u001b[0m\u001b[1;33m,\u001b[0m \u001b[0mbuffer\u001b[0m\u001b[1;33m)\u001b[0m\u001b[1;33m\u001b[0m\u001b[0m\n\u001b[0m\u001b[0;32m    632\u001b[0m         \u001b[1;32melse\u001b[0m\u001b[1;33m:\u001b[0m\u001b[1;33m\u001b[0m\u001b[0m\n\u001b[0;32m    633\u001b[0m             \u001b[0mv\u001b[0m \u001b[1;33m=\u001b[0m \u001b[0mself\u001b[0m\u001b[1;33m.\u001b[0m\u001b[0m_sslobj\u001b[0m\u001b[1;33m.\u001b[0m\u001b[0mread\u001b[0m\u001b[1;33m(\u001b[0m\u001b[0mlen\u001b[0m\u001b[1;33m)\u001b[0m\u001b[1;33m\u001b[0m\u001b[0m\n",
      "\u001b[1;31mKeyboardInterrupt\u001b[0m: "
     ]
    }
   ],
   "source": [
    "oldBar = None\n",
    "for tick in ticks:\n",
    "    print(tick)\n",
    "    if tick['type'] == 'PRICE':\n",
    "        print('The current price is: '+tick['bids'][0]['price'])\n",
    "        currBar = ktrade.get_currency_bars(\"EUR_USD\",\"M1\",1).iloc[0].name\n",
    "        if currBar == oldBar:\n",
    "            print(\"This is the same bar nothing special :(\")\n",
    "        else:\n",
    "            print(\"OMG THIS IS A NEW BAR CRAZY\\nCRAZY OH BOY CAZE \\n CRALALALA\")\n",
    "            oldBar = currBar\n",
    "        "
   ]
  },
  {
   "cell_type": "code",
   "execution_count": 336,
   "metadata": {},
   "outputs": [
    {
     "data": {
      "text/plain": [
       "Timestamp('2018-07-02 06:04:00')"
      ]
     },
     "execution_count": 336,
     "metadata": {},
     "output_type": "execute_result"
    }
   ],
   "source": [
    "bartest = ktrade.get_currency_bars(\"EUR_USD\",\"M1\",2).iloc[0].name\n",
    "bartest "
   ]
  },
  {
   "cell_type": "code",
   "execution_count": 344,
   "metadata": {},
   "outputs": [],
   "source": [
    "pd.r"
   ]
  },
  {
   "cell_type": "code",
   "execution_count": 6,
   "metadata": {},
   "outputs": [
    {
     "data": {
      "text/plain": [
       "1.1642711999999997"
      ]
     },
     "execution_count": 6,
     "metadata": {},
     "output_type": "execute_result"
    }
   ],
   "source": [
    "negro = ktrade.get_currency_bars(\"EUR_USD\",\"H1\",40)\n",
    "negro['SMA_Short'] = negro['Close'].rolling(window=5).mean()\n",
    "negro['SMA_Long'] = negro['Close'].rolling(window=15).mean()\n",
    "negro['SMA_SUPERLONG'] = negro['Close'].rolling(window=25).mean()\n",
    "negro.iloc[-1][8]"
   ]
  },
  {
   "cell_type": "code",
   "execution_count": null,
   "metadata": {},
   "outputs": [],
   "source": [
    "#First Test Algorithm!!!\n",
    "print(\"welcome to testtrade!\")\n",
    "print(\"Trading the EUR_USD Minute 5\")\n",
    "tradesPlaced = 0\n",
    "oldBar = None\n",
    "Trademode = 1\n",
    "for tick in ticks:\n",
    "    if tick['type'] == 'PRICE':\n",
    "        print('The current price is: '+tick['bids'][0]['price'])\n",
    "        currBar = ktrade.get_currency_bars(\"EUR_USD\",\"M5\",1).iloc[-1].name\n",
    "        if currBar == oldBar:\n",
    "            print(\"This is the same bar nothing special :(\")\n",
    "        else:\n",
    "            print(\"New Bar detected! running calculations!...\")\n",
    "            oldBar = currBar\n",
    "            df = ktrade.get_currency_bars(\"EUR_USD\",\"M5\",30)\n",
    "            df['SMA_Short'] = negro['Close'].rolling(window=5).mean()\n",
    "            df['SMA_Long'] = negro['Close'].rolling(window=15).mean()\n",
    "            df['SMA_SUPERLONG'] = negro['Close'].rolling(window=25).mean()\n",
    "            \n",
    "            if df.iloc[-1][8] > df.iloc[-1][7]:\n",
    "                print(\"mode is SELL\")\n",
    "                Trademode = 0\n",
    "            else:\n",
    "                print(\"mode is SELL\")\n",
    "                Trademode = 1\n",
    "                \n",
    "            if Trademode == 1 and \n",
    "            \n"
   ]
  },
  {
   "cell_type": "code",
   "execution_count": null,
   "metadata": {},
   "outputs": [],
   "source": []
  },
  {
   "cell_type": "code",
   "execution_count": null,
   "metadata": {},
   "outputs": [],
   "source": []
  },
  {
   "cell_type": "code",
   "execution_count": null,
   "metadata": {},
   "outputs": [],
   "source": []
  },
  {
   "cell_type": "code",
   "execution_count": null,
   "metadata": {},
   "outputs": [],
   "source": []
  },
  {
   "cell_type": "code",
   "execution_count": null,
   "metadata": {},
   "outputs": [],
   "source": []
  },
  {
   "cell_type": "code",
   "execution_count": null,
   "metadata": {},
   "outputs": [],
   "source": []
  },
  {
   "cell_type": "markdown",
   "metadata": {},
   "source": [
    "currency = ktrade.get_currency_info('EUR_USD')"
   ]
  },
  {
   "cell_type": "markdown",
   "metadata": {},
   "source": [
    "currency = ktrade.get_currency_info('EUR_USD')\n",
    "ktrade.parse_currency_info('ask',currency)"
   ]
  },
  {
   "cell_type": "code",
   "execution_count": null,
   "metadata": {},
   "outputs": [],
   "source": []
  },
  {
   "cell_type": "code",
   "execution_count": 30,
   "metadata": {},
   "outputs": [],
   "source": [
    "currency = ktrade.get_currency_info('EUR_USD')\n",
    "currprice = ktrade.parse_currency_info('ask',currency)"
   ]
  },
  {
   "cell_type": "code",
   "execution_count": 32,
   "metadata": {},
   "outputs": [
    {
     "name": "stdout",
     "output_type": "stream",
     "text": [
      "Entry Order placed on EUR_USD for: 1.16446---Units: 10000\n"
     ]
    }
   ],
   "source": [
    "bob = ktrade.pending_order(\"EUR_USD\",'buy',currprice+ktrade.pips(15),10000,1.1622,1.1642)"
   ]
  },
  {
   "cell_type": "code",
   "execution_count": 33,
   "metadata": {},
   "outputs": [
    {
     "data": {
      "text/plain": [
       "{'orderCancelTransaction': {'type': 'ORDER_CANCEL',\n",
       "  'orderID': '457',\n",
       "  'reason': 'CLIENT_REQUEST',\n",
       "  'id': '458',\n",
       "  'userID': 5325021,\n",
       "  'accountID': '101-001-5325021-002',\n",
       "  'batchID': '458',\n",
       "  'requestID': '24434123466847649',\n",
       "  'time': '2018-07-03T01:35:02.632603566Z'},\n",
       " 'relatedTransactionIDs': ['458'],\n",
       " 'lastTransactionID': '458'}"
      ]
     },
     "execution_count": 33,
     "metadata": {},
     "output_type": "execute_result"
    }
   ],
   "source": [
    "ktrade.cancel_pending_order(bob)"
   ]
  },
  {
   "cell_type": "code",
   "execution_count": null,
   "metadata": {},
   "outputs": [],
   "source": [
    "`"
   ]
  }
 ],
 "metadata": {
  "kernelspec": {
   "display_name": "Python [conda env:oandaEnv]",
   "language": "python",
   "name": "conda-env-oandaEnv-py"
  },
  "language_info": {
   "codemirror_mode": {
    "name": "ipython",
    "version": 3
   },
   "file_extension": ".py",
   "mimetype": "text/x-python",
   "name": "python",
   "nbconvert_exporter": "python",
   "pygments_lexer": "ipython3",
   "version": "3.6.5"
  }
 },
 "nbformat": 4,
 "nbformat_minor": 2
}
